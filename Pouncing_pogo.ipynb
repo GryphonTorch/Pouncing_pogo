{
 "cells": [
  {
   "cell_type": "code",
   "execution_count": 1,
   "id": "001e27ae",
   "metadata": {},
   "outputs": [],
   "source": [
    "# Final project code"
   ]
  },
  {
   "cell_type": "code",
   "execution_count": 3,
   "id": "22ef974e",
   "metadata": {},
   "outputs": [],
   "source": [
    "import numpy as np"
   ]
  },
  {
   "cell_type": "code",
   "execution_count": 4,
   "id": "31abd8f5",
   "metadata": {},
   "outputs": [],
   "source": [
    "dT = 0.05  # seconds, maybe just Euler integrate\n",
    "\n",
    "\n",
    "def rk4_step(f, x, u, dt):\n",
    "    \"\"\"\n",
    "        Input:\n",
    "            xdot = f(x) - function to be integrated, passed as f\n",
    "            x - initial condition to the function \n",
    "            dt - time step \n",
    "        Output: \n",
    "            x[t+dt] \n",
    "    \"\"\"\n",
    "    # one step of runge-kutta integration, from previous hw\n",
    "    k_1 = f(x, u)\n",
    "    k_2 = f(x + dt*k_1/2, u)\n",
    "    k_3 = f(x + dt*k_2/2, u)\n",
    "    k_4 = f(x + dt*k_3, u)\n",
    "    next_x = x + 1/6*dt*(k_1 + 2*k_2 + 2*k_3 + k_4)\n",
    "    return next_x"
   ]
  },
  {
   "cell_type": "code",
   "execution_count": 15,
   "id": "982f0a47",
   "metadata": {},
   "outputs": [
    {
     "name": "stdout",
     "output_type": "stream",
     "text": [
      "0\n"
     ]
    }
   ],
   "source": [
    "# State of pogo: [x, x_dot, y, y_dot, theta, theta_dot]\n",
    "# upwards is positive\n",
    "\n",
    "class Pogo_robot:\n",
    "  def __init__(self, k, M, l, init_x, init_xdot, init_y, init_ydot, init_theta, init_thetadot):\n",
    "    \"\"\"Initialize state parameters and constant\"\"\"\n",
    "    self.x = init_x\n",
    "    self.xdot = init_xdot\n",
    "    self.y = init_y\n",
    "    self.ydot = init_ydot\n",
    "    self.theta = init_theta   # radian\n",
    "    self.thetadot = init_thetadot\n",
    "    self.k = 1\n",
    "    self.M = 1\n",
    "    self.lk = 0.9*l   # maybe check lengths\n",
    "    self.l = 0.5\n",
    "    \n",
    "\n",
    "    \n",
    "    \n",
    "  def flight(self):\n",
    "    \"\"\"Free flight phase (no ground contact)\"\"\"\n",
    "    prev_state = np.array([self.x, self.xdot, self.y, self.ydot, self.theta, self.thetadot])    \n",
    "    self.x += prev_state[1]*dT   # Euler timestep integrate\n",
    "    self.xdot += 0.0\n",
    "    self.y += prev_state[3]*dT\n",
    "    self.ydot += -9.81\n",
    "    self.theta += prev_state[5]*dT\n",
    "    self.thetadot += 0  # no change\n",
    "    return \n",
    "  \n",
    "  def contact(self):\n",
    "    \"\"\"Contacted with the ground\"\"\"\n",
    "    # l_ddot formula \n",
    "    \n",
    "    \n",
    "Pogo = Pogo_robot(0, 0.2, 0.5, -0.3, 2, 0)\n",
    "\n",
    "print(Pogo.x)\n",
    "\n"
   ]
  },
  {
   "cell_type": "code",
   "execution_count": 9,
   "id": "a12ba857",
   "metadata": {},
   "outputs": [
    {
     "name": "stdout",
     "output_type": "stream",
     "text": [
      "[1, 0]\n",
      "1\n",
      "[1, 0]\n",
      "1\n"
     ]
    }
   ],
   "source": [
    "# Initialize Pogo, propagate free flight\n",
    "# Check for ground contact\n",
    "# "
   ]
  },
  {
   "cell_type": "code",
   "execution_count": null,
   "id": "7e2030be",
   "metadata": {},
   "outputs": [],
   "source": []
  }
 ],
 "metadata": {
  "kernelspec": {
   "display_name": "Python 3 (ipykernel)",
   "language": "python",
   "name": "python3"
  },
  "language_info": {
   "codemirror_mode": {
    "name": "ipython",
    "version": 3
   },
   "file_extension": ".py",
   "mimetype": "text/x-python",
   "name": "python",
   "nbconvert_exporter": "python",
   "pygments_lexer": "ipython3",
   "version": "3.10.6"
  }
 },
 "nbformat": 4,
 "nbformat_minor": 5
}
